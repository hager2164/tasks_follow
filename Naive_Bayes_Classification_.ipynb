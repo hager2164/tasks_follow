{
  "nbformat": 4,
  "nbformat_minor": 0,
  "metadata": {
    "colab": {
      "provenance": [],
      "authorship_tag": "ABX9TyP4h/2aQ7OL8V/TsNoeeRm0",
      "include_colab_link": true
    },
    "kernelspec": {
      "name": "python3",
      "display_name": "Python 3"
    },
    "language_info": {
      "name": "python"
    }
  },
  "cells": [
    {
      "cell_type": "markdown",
      "metadata": {
        "id": "view-in-github",
        "colab_type": "text"
      },
      "source": [
        "<a href=\"https://colab.research.google.com/github/hager2164/tasks_follow/blob/main/Naive_Bayes_Classification_.ipynb\" target=\"_parent\"><img src=\"https://colab.research.google.com/assets/colab-badge.svg\" alt=\"Open In Colab\"/></a>"
      ]
    },
    {
      "cell_type": "code",
      "execution_count": 1,
      "metadata": {
        "colab": {
          "base_uri": "https://localhost:8080/"
        },
        "id": "68vSfC2pnbeg",
        "outputId": "c99bf66d-1cd0-4895-c144-7a514e67e00f"
      },
      "outputs": [
        {
          "output_type": "stream",
          "name": "stdout",
          "text": [
            "Requirement already satisfied: Pyspark in /usr/local/lib/python3.12/dist-packages (3.5.1)\n",
            "Requirement already satisfied: py4j==0.10.9.7 in /usr/local/lib/python3.12/dist-packages (from Pyspark) (0.10.9.7)\n"
          ]
        }
      ],
      "source": [
        "!pip install Pyspark\n"
      ]
    },
    {
      "cell_type": "code",
      "source": [
        "from pyspark.sql import SparkSession\n",
        "spark=SparkSession.builder.getOrCreate()\n"
      ],
      "metadata": {
        "id": "I-wDZt96oNWh"
      },
      "execution_count": 2,
      "outputs": []
    },
    {
      "cell_type": "code",
      "source": [
        "spark"
      ],
      "metadata": {
        "colab": {
          "base_uri": "https://localhost:8080/",
          "height": 222
        },
        "id": "sddWjiWGoSqd",
        "outputId": "29e36c0b-743b-4ea1-b6d2-94187d675b83"
      },
      "execution_count": 3,
      "outputs": [
        {
          "output_type": "execute_result",
          "data": {
            "text/plain": [
              "<pyspark.sql.session.SparkSession at 0x7de2683c7bc0>"
            ],
            "text/html": [
              "\n",
              "            <div>\n",
              "                <p><b>SparkSession - in-memory</b></p>\n",
              "                \n",
              "        <div>\n",
              "            <p><b>SparkContext</b></p>\n",
              "\n",
              "            <p><a href=\"http://a032fbaec964:4040\">Spark UI</a></p>\n",
              "\n",
              "            <dl>\n",
              "              <dt>Version</dt>\n",
              "                <dd><code>v3.5.1</code></dd>\n",
              "              <dt>Master</dt>\n",
              "                <dd><code>local[*]</code></dd>\n",
              "              <dt>AppName</dt>\n",
              "                <dd><code>pyspark-shell</code></dd>\n",
              "            </dl>\n",
              "        </div>\n",
              "        \n",
              "            </div>\n",
              "        "
            ]
          },
          "metadata": {},
          "execution_count": 3
        }
      ]
    },
    {
      "cell_type": "code",
      "source": [
        "import pandas as pd\n",
        "import numpy as np\n",
        "from sklearn.datasets import load_iris\n",
        "iris = load_iris(as_frame=True)\n",
        "iris = iris.frame\n",
        "iris = spark.createDataFrame(iris)"
      ],
      "metadata": {
        "id": "AOgn4wdIoVKy"
      },
      "execution_count": 4,
      "outputs": []
    },
    {
      "cell_type": "code",
      "source": [
        "iris.show()\n"
      ],
      "metadata": {
        "colab": {
          "base_uri": "https://localhost:8080/"
        },
        "id": "BEeUStKHoarq",
        "outputId": "41d55878-ba87-4485-9189-8715228b5e9f"
      },
      "execution_count": 5,
      "outputs": [
        {
          "output_type": "stream",
          "name": "stdout",
          "text": [
            "+-----------------+----------------+-----------------+----------------+------+\n",
            "|sepal length (cm)|sepal width (cm)|petal length (cm)|petal width (cm)|target|\n",
            "+-----------------+----------------+-----------------+----------------+------+\n",
            "|              5.1|             3.5|              1.4|             0.2|     0|\n",
            "|              4.9|             3.0|              1.4|             0.2|     0|\n",
            "|              4.7|             3.2|              1.3|             0.2|     0|\n",
            "|              4.6|             3.1|              1.5|             0.2|     0|\n",
            "|              5.0|             3.6|              1.4|             0.2|     0|\n",
            "|              5.4|             3.9|              1.7|             0.4|     0|\n",
            "|              4.6|             3.4|              1.4|             0.3|     0|\n",
            "|              5.0|             3.4|              1.5|             0.2|     0|\n",
            "|              4.4|             2.9|              1.4|             0.2|     0|\n",
            "|              4.9|             3.1|              1.5|             0.1|     0|\n",
            "|              5.4|             3.7|              1.5|             0.2|     0|\n",
            "|              4.8|             3.4|              1.6|             0.2|     0|\n",
            "|              4.8|             3.0|              1.4|             0.1|     0|\n",
            "|              4.3|             3.0|              1.1|             0.1|     0|\n",
            "|              5.8|             4.0|              1.2|             0.2|     0|\n",
            "|              5.7|             4.4|              1.5|             0.4|     0|\n",
            "|              5.4|             3.9|              1.3|             0.4|     0|\n",
            "|              5.1|             3.5|              1.4|             0.3|     0|\n",
            "|              5.7|             3.8|              1.7|             0.3|     0|\n",
            "|              5.1|             3.8|              1.5|             0.3|     0|\n",
            "+-----------------+----------------+-----------------+----------------+------+\n",
            "only showing top 20 rows\n",
            "\n"
          ]
        }
      ]
    },
    {
      "cell_type": "code",
      "source": [
        "iris.printSchema()\n"
      ],
      "metadata": {
        "colab": {
          "base_uri": "https://localhost:8080/"
        },
        "id": "8WsFIr0noa_2",
        "outputId": "84b8b662-25fe-42e7-c315-9a28a864926b"
      },
      "execution_count": 6,
      "outputs": [
        {
          "output_type": "stream",
          "name": "stdout",
          "text": [
            "root\n",
            " |-- sepal length (cm): double (nullable = true)\n",
            " |-- sepal width (cm): double (nullable = true)\n",
            " |-- petal length (cm): double (nullable = true)\n",
            " |-- petal width (cm): double (nullable = true)\n",
            " |-- target: long (nullable = true)\n",
            "\n"
          ]
        }
      ]
    },
    {
      "cell_type": "code",
      "source": [
        "from pyspark.ml.feature import VectorAssembler\n"
      ],
      "metadata": {
        "id": "zvMhwAhGod1d"
      },
      "execution_count": 7,
      "outputs": []
    },
    {
      "cell_type": "code",
      "source": [
        "featureassembler= VectorAssembler(inputCols=['sepal length (cm)',\n",
        " 'sepal width (cm)',\n",
        " 'petal length (cm)',\n",
        " 'petal width (cm)'], outputCol='Features')"
      ],
      "metadata": {
        "id": "QatxcPozof8f"
      },
      "execution_count": 8,
      "outputs": []
    },
    {
      "cell_type": "code",
      "source": [
        "output = featureassembler.transform(iris)\n"
      ],
      "metadata": {
        "id": "oBfpGYWIoi5f"
      },
      "execution_count": 9,
      "outputs": []
    },
    {
      "cell_type": "code",
      "source": [
        "modeldata=output.select('Features','target')\n"
      ],
      "metadata": {
        "id": "uiM1Cw2Iokt9"
      },
      "execution_count": 10,
      "outputs": []
    },
    {
      "cell_type": "code",
      "source": [
        "modeldata.show()"
      ],
      "metadata": {
        "colab": {
          "base_uri": "https://localhost:8080/"
        },
        "id": "PZvfbSxrooh4",
        "outputId": "297216c5-2e0e-4c13-af4f-2c57fb9e83ac"
      },
      "execution_count": 11,
      "outputs": [
        {
          "output_type": "stream",
          "name": "stdout",
          "text": [
            "+-----------------+------+\n",
            "|         Features|target|\n",
            "+-----------------+------+\n",
            "|[5.1,3.5,1.4,0.2]|     0|\n",
            "|[4.9,3.0,1.4,0.2]|     0|\n",
            "|[4.7,3.2,1.3,0.2]|     0|\n",
            "|[4.6,3.1,1.5,0.2]|     0|\n",
            "|[5.0,3.6,1.4,0.2]|     0|\n",
            "|[5.4,3.9,1.7,0.4]|     0|\n",
            "|[4.6,3.4,1.4,0.3]|     0|\n",
            "|[5.0,3.4,1.5,0.2]|     0|\n",
            "|[4.4,2.9,1.4,0.2]|     0|\n",
            "|[4.9,3.1,1.5,0.1]|     0|\n",
            "|[5.4,3.7,1.5,0.2]|     0|\n",
            "|[4.8,3.4,1.6,0.2]|     0|\n",
            "|[4.8,3.0,1.4,0.1]|     0|\n",
            "|[4.3,3.0,1.1,0.1]|     0|\n",
            "|[5.8,4.0,1.2,0.2]|     0|\n",
            "|[5.7,4.4,1.5,0.4]|     0|\n",
            "|[5.4,3.9,1.3,0.4]|     0|\n",
            "|[5.1,3.5,1.4,0.3]|     0|\n",
            "|[5.7,3.8,1.7,0.3]|     0|\n",
            "|[5.1,3.8,1.5,0.3]|     0|\n",
            "+-----------------+------+\n",
            "only showing top 20 rows\n",
            "\n"
          ]
        }
      ]
    },
    {
      "cell_type": "code",
      "source": [
        "train_data,test_data=modeldata.randomSplit([0.8,0.2])\n"
      ],
      "metadata": {
        "id": "kJQntuNtoqLD"
      },
      "execution_count": 12,
      "outputs": []
    },
    {
      "cell_type": "code",
      "source": [
        "from pyspark.ml.classification import NaiveBayes\n",
        "nb = NaiveBayes(featuresCol='Features', labelCol='target')\n",
        "nb=nb.fit(train_data)\n",
        "\n"
      ],
      "metadata": {
        "id": "H9b_19F4ouu3"
      },
      "execution_count": 13,
      "outputs": []
    },
    {
      "cell_type": "code",
      "source": [
        "y_pred = nb.transform(test_data)\n",
        "y_pred.show()\n"
      ],
      "metadata": {
        "colab": {
          "base_uri": "https://localhost:8080/"
        },
        "id": "WJM1Ph0mo0O9",
        "outputId": "8b6bc327-3ba8-4045-ec56-7e652c803fb0"
      },
      "execution_count": 14,
      "outputs": [
        {
          "output_type": "stream",
          "name": "stdout",
          "text": [
            "+-----------------+------+--------------------+--------------------+----------+\n",
            "|         Features|target|       rawPrediction|         probability|prediction|\n",
            "+-----------------+------+--------------------+--------------------+----------+\n",
            "|[4.9,3.6,1.4,0.1]|     0|[-11.528295483034...|[0.78942243659543...|       0.0|\n",
            "|[5.0,3.2,1.2,0.2]|     0|[-11.144595784515...|[0.75322827770834...|       0.0|\n",
            "|[5.1,3.5,1.4,0.3]|     0|[-12.292317582714...|[0.73632731626717...|       0.0|\n",
            "|[5.4,3.4,1.5,0.4]|     0|[-12.954768414924...|[0.69321851128191...|       0.0|\n",
            "|[5.4,3.9,1.7,0.4]|     0|[-13.883549276798...|[0.72363065980502...|       0.0|\n",
            "|[6.0,2.2,4.0,1.0]|     1|[-19.083586743177...|[0.07646148405954...|       1.0|\n",
            "|[6.1,2.9,4.7,1.4]|     1|[-22.725015614817...|[0.04164500711472...|       1.0|\n",
            "|[6.5,2.8,4.6,1.5]|     1|[-23.073347419434...|[0.03998474903553...|       1.0|\n",
            "|[6.9,3.1,4.9,1.5]|     1|[-24.261687528625...|[0.04149296556800...|       1.0|\n",
            "|[5.0,2.3,3.3,1.0]|     1|[-17.133103900989...|[0.10815758368902...|       1.0|\n",
            "|[5.4,3.0,4.5,1.5]|     1|[-22.316124647498...|[0.03876826746837...|       2.0|\n",
            "|[5.7,2.5,5.0,2.0]|     2|[-24.775241337771...|[0.01056758128131...|       2.0|\n",
            "|[5.7,2.6,3.5,1.0]|     1|[-18.342121469462...|[0.12626203615216...|       1.0|\n",
            "|[5.8,2.7,5.1,1.9]|     2|[-24.891096888321...|[0.01300097036380...|       2.0|\n",
            "|[6.2,2.9,4.3,1.3]|     1|[-21.660409805286...|[0.06459668058189...|       1.0|\n",
            "|[6.3,2.9,5.6,1.8]|     2|[-26.061759229444...|[0.01287251060223...|       2.0|\n",
            "|[6.3,3.4,5.6,2.4]|     2|[-28.796964065176...|[0.00751898128847...|       2.0|\n",
            "|[6.5,3.0,5.5,1.8]|     2|[-26.120055308504...|[0.01535934970038...|       2.0|\n",
            "|[6.5,3.2,5.1,2.0]|     2|[-26.297600423103...|[0.01768144988424...|       2.0|\n",
            "+-----------------+------+--------------------+--------------------+----------+\n",
            "\n"
          ]
        }
      ]
    },
    {
      "cell_type": "code",
      "source": [
        "from sklearn.metrics import confusion_matrix\n",
        "pred=y_pred.select(\"prediction\").collect()\n",
        "orig=y_pred.select(\"target\").collect()\n",
        "print(confusion_matrix(orig, pred))"
      ],
      "metadata": {
        "colab": {
          "base_uri": "https://localhost:8080/"
        },
        "id": "22-47OXAo4Lf",
        "outputId": "3e719916-4c35-4843-eb83-a03745671e63"
      },
      "execution_count": 15,
      "outputs": [
        {
          "output_type": "stream",
          "name": "stdout",
          "text": [
            "[[5 0 0]\n",
            " [0 7 1]\n",
            " [0 0 6]]\n"
          ]
        }
      ]
    },
    {
      "cell_type": "code",
      "source": [
        "from pyspark.ml.evaluation import MulticlassClassificationEvaluator\n",
        "evaluator = MulticlassClassificationEvaluator(\n",
        "    labelCol='target', predictionCol='prediction')"
      ],
      "metadata": {
        "id": "vCqEL920o7df"
      },
      "execution_count": 16,
      "outputs": []
    },
    {
      "cell_type": "code",
      "source": [
        "accuracy = evaluator.evaluate(y_pred)\n",
        "accuracy"
      ],
      "metadata": {
        "colab": {
          "base_uri": "https://localhost:8080/"
        },
        "id": "NSEXJbEZpCOC",
        "outputId": "3cf282e7-17eb-43c8-bc98-43882880986d"
      },
      "execution_count": 17,
      "outputs": [
        {
          "output_type": "execute_result",
          "data": {
            "text/plain": [
              "0.9476383265856949"
            ]
          },
          "metadata": {},
          "execution_count": 17
        }
      ]
    },
    {
      "cell_type": "code",
      "source": [
        "spark.stop()"
      ],
      "metadata": {
        "id": "LvRR6UGdpElw"
      },
      "execution_count": 19,
      "outputs": []
    },
    {
      "cell_type": "code",
      "source": [],
      "metadata": {
        "id": "Z3chRlJGpHQz"
      },
      "execution_count": null,
      "outputs": []
    }
  ]
}